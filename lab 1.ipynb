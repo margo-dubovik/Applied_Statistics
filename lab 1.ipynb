{
 "cells": [
  {
   "cell_type": "code",
   "execution_count": 39,
   "metadata": {},
   "outputs": [],
   "source": [
    "import numpy as np\n",
    "from scipy.stats import norm #нормальний розподіл \n",
    "from scipy.stats import t #розподіл Стьюдента\n",
    "from scipy.stats import chi2 #розподіл Хі-квадрат\n",
    "import math\n",
    "import itertools"
   ]
  },
  {
   "cell_type": "markdown",
   "metadata": {},
   "source": [
    "# Завдання 1"
   ]
  },
  {
   "cell_type": "code",
   "execution_count": 34,
   "metadata": {},
   "outputs": [],
   "source": [
    "gamma = 0.01\n",
    "Z_gamma = 2.575\n",
    "\n",
    "n1 = 100\n",
    "n2 = 10000\n",
    "n3 = 1000000\n",
    "\n",
    "def gen_values(n):\n",
    "    vals = norm.rvs(size = n)\n",
    "    X = np.sum(vals) / n  #вибіркове середнє\n",
    "    S = np.sum([(i - X)**2 for i in vals]) / n #вибіркова дисперсія\n",
    "    return X, S    "
   ]
  },
  {
   "attachments": {
    "image.png": {
     "image/png": "[encoded data removed]"
    }
   },
   "cell_type": "markdown",
   "metadata": {},
   "source": [
    "A. Побудувати довірчий інтервал для математичного сподівання у припущенні, що спостерігаються в.в., які мають нормальний розподіл, але дисперсія невідома.\n",
    "\n",
    "![image.png](attachment:image.png)"
   ]
  },
  {
   "cell_type": "code",
   "execution_count": 56,
   "metadata": {},
   "outputs": [
    {
     "name": "stdout",
     "output_type": "stream",
     "text": [
      "Z_gamma= 0.012565164145454548\n",
      "кількість спостережень = 100\n",
      "вибіркове середнє = 0.06712911961648542\n",
      "вибіркова дисперсія 1.0594749609965999\n",
      "a належить (0.0658292615974881, 0.06842897763548274) з імовірністю 0.99\n",
      "довжина довірчого інтервалу = 0.002599716037994637\n",
      "\n",
      "Z_gamma= 0.012533782929290459\n",
      "кількість спостережень = 10000\n",
      "вибіркове середнє = -0.0022315504505620587\n",
      "вибіркова дисперсія 0.9916991890165191\n",
      "a належить (-0.002356373234305004, -0.0021067276668191135) з імовірністю 0.99\n",
      "довжина довірчого інтервалу = 0.00024964556748589047\n",
      "\n",
      "Z_gamma= 0.01253347264193246\n",
      "кількість спостережень = 1000000\n",
      "вибіркове середнє = -0.0001602461384336327\n",
      "вибіркова дисперсія 0.9992349741640113\n",
      "a належить (-0.00017277482220744023, -0.00014771745465982518) з імовірністю 0.99\n",
      "довжина довірчого інтервалу = 2.5057367547615052e-05\n",
      "\n"
     ]
    }
   ],
   "source": [
    "def interval_for_expected_value_1(n): #довірчий інтервал для матсподівання при невідомій дисперсії\n",
    "    X, S = gen_values(n)\n",
    "    df = n-1 #ступенів свободи розподілу Стьюдента\n",
    "    Z_gamma = t.ppf((1+gamma)/2, df, loc=0, scale=1)\n",
    "    print(\"Z_gamma=\", Z_gamma)\n",
    "    left = X - (Z_gamma * math.sqrt(S)) / math.sqrt(n-1)\n",
    "    right = X + (Z_gamma * math.sqrt(S)) / math.sqrt(n-1)\n",
    "    print(\"кількість спостережень =\", n)\n",
    "    print(\"вибіркове середнє =\", X)\n",
    "    print(\"вибіркова дисперсія\", S)\n",
    "    print(f\"a належить ({left}, {right}) з імовірністю {1-gamma}\")\n",
    "    print(f\"довжина довірчого інтервалу = {abs(right-left)}\\n\")\n",
    "    return [left, right]\n",
    "\n",
    "interval_1 = interval_for_expected_value_1(n1)\n",
    "interval_2 = interval_for_expected_value_1(n2)\n",
    "interval_3 = interval_for_expected_value_1(n3)"
   ]
  },
  {
   "attachments": {
    "image.png": {
     "image/png": "[encoded data removed]"
    }
   },
   "cell_type": "markdown",
   "metadata": {},
   "source": [
    "B. Побудувати довірчий інтервал для математичного сподівання у припущенні, що спостерігаються в.в., розподіл яких невідомий.\n",
    "![image.png](attachment:image.png)"
   ]
  },
  {
   "attachments": {
    "image.png": {
     "image/png": "[encoded data removed]"
    }
   },
   "cell_type": "markdown",
   "metadata": {},
   "source": [
    "замість дисперсії використали її незміщену оцінку: ![image.png](attachment:image.png)"
   ]
  },
  {
   "cell_type": "code",
   "execution_count": 36,
   "metadata": {},
   "outputs": [
    {
     "name": "stdout",
     "output_type": "stream",
     "text": [
      "кількість спостережень = 100\n",
      "вибіркове середнє = -0.28516710634119047\n",
      "вибіркова дисперсія 0.9008898841763784\n",
      "a належить (-0.529573795862304, -0.04076041682007689) з імовірністю 0.99\n",
      "довжина довірчого інтервалу = 0.4888133790422271\n",
      "\n",
      "кількість спостережень = 10000\n",
      "вибіркове середнє = 0.022740919765434544\n",
      "вибіркова дисперсія 0.7988262932819199\n",
      "a належить (-0.00027367905985986943, 0.04575551859072896) з імовірністю 0.99\n",
      "довжина довірчого інтервалу = 0.04602919765058883\n",
      "\n",
      "кількість спостережень = 1000000\n",
      "вибіркове середнє = -0.1249269641183007\n",
      "вибіркова дисперсія 0.807313177631204\n",
      "a належить (-0.12724061727692904, -0.12261331095967236) з імовірністю 0.99\n",
      "довжина довірчого інтервалу = 0.004627306317256677\n",
      "\n"
     ]
    }
   ],
   "source": [
    "def interval_for_expected_value_2(n): #довірчий інтервал для матсподівання при невідомому розподілі\n",
    "    X, S = gen_values(n1)\n",
    "    S = (S * n) / (n-1)\n",
    "    left = X - (Z_gamma * math.sqrt(S)) / math.sqrt(n)\n",
    "    right = X + (Z_gamma * math.sqrt(S)) / math.sqrt(n)\n",
    "    print(\"кількість спостережень =\", n)\n",
    "    print(\"вибіркове середнє =\", X)\n",
    "    print(\"вибіркова дисперсія\", S)\n",
    "    print(f\"a належить ({left}, {right}) з імовірністю {1-gamma}\")\n",
    "    print(f\"довжина довірчого інтервалу = {abs(right-left)}\\n\")\n",
    "    return [left, right]\n",
    "\n",
    "interval_1 = interval_for_expected_value_2(n1)\n",
    "interval_2 = interval_for_expected_value_2(n2)\n",
    "interval_3 = interval_for_expected_value_2(n3)"
   ]
  },
  {
   "attachments": {
    "image.png": {
     "image/png": "[encoded data removed]"
    }
   },
   "cell_type": "markdown",
   "metadata": {},
   "source": [
    "C. Побудувати довірчий інтервал для дисперсії у припущенні, що\n",
    "спостерігаються в.в., які мають нормальний розподіл.\n",
    "![image.png](attachment:image.png)"
   ]
  },
  {
   "cell_type": "code",
   "execution_count": 57,
   "metadata": {},
   "outputs": [
    {
     "name": "stdout",
     "output_type": "stream",
     "text": [
      "Z1= 98.15857401686063 Z2= 98.50990999168656\n",
      "кількість спостережень = 100\n",
      "вибіркове середнє = 0.10086466848604594\n",
      "вибіркова дисперсія 0.9978884898575118\n",
      "a належить (1.0129828460321662, 1.016608584478932) з імовірністю 0.99\n",
      "довжина довірчого інтервалу = 0.003625738446765947\n",
      "\n",
      "Z1= 9996.561103264923 Z2= 10000.105788656338\n",
      "кількість спостережень = 10000\n",
      "вибіркове середнє = -0.1061127062625811\n",
      "вибіркова дисперсія 0.9589928100475683\n",
      "a належить (0.9589826650988091, 0.9593227112215188) з імовірністю 0.99\n",
      "довжина довірчого інтервалу = 0.0003400461227096585\n",
      "\n",
      "Z1= 999980.608451331 Z2= 1000016.058424944\n",
      "кількість спостережень = 1000000\n",
      "вибіркове середнє = -0.03829572980247867\n",
      "вибіркова дисперсія 1.021279090849969\n",
      "a належить (1.0212626909796978, 1.021298895417205) з імовірністю 0.99\n",
      "довжина довірчого інтервалу = 3.62044375072923e-05\n",
      "\n"
     ]
    }
   ],
   "source": [
    "def interval_for_expected_value_3(n): #довірчий інтервал для дисперсії при нормальному розподілі\n",
    "    X, S = gen_values(n1)\n",
    "    df = n-1 #ступенів свободи розподілу хі-квадрат\n",
    "    Z1 = chi2.ppf((1-gamma)/2, df, loc=0, scale=1)\n",
    "    Z2 = chi2.ppf((1+gamma)/2, df, loc=0, scale=1)\n",
    "    print(\"Z1=\", Z1, \"Z2=\", Z2)\n",
    "    left = n * S / Z2 \n",
    "    right = n * S / Z1 \n",
    "    print(\"кількість спостережень =\", n)\n",
    "    print(\"вибіркове середнє =\", X)\n",
    "    print(\"вибіркова дисперсія\", S)\n",
    "    print(f\"a належить ({left}, {right}) з імовірністю {1-gamma}\")\n",
    "    print(f\"довжина довірчого інтервалу = {abs(right-left)}\\n\")\n",
    "    return [left, right]\n",
    "\n",
    "interval_1 = interval_for_expected_value_3(n1)\n",
    "interval_2 = interval_for_expected_value_3(n2)\n",
    "interval_3 = interval_for_expected_value_3(n3)"
   ]
  },
  {
   "cell_type": "markdown",
   "metadata": {},
   "source": [
    "# Завдання 2"
   ]
  },
  {
   "cell_type": "code",
   "execution_count": null,
   "metadata": {},
   "outputs": [],
   "source": []
  }
 ],
 "metadata": {
  "kernelspec": {
   "display_name": "Python 3",
   "language": "python",
   "name": "python3"
  },
  "language_info": {
   "codemirror_mode": {
    "name": "ipython",
    "version": 3
   },
   "file_extension": ".py",
   "mimetype": "text/x-python",
   "name": "python",
   "nbconvert_exporter": "python",
   "pygments_lexer": "ipython3",
   "version": "3.8.3"
  }
 },
 "nbformat": 4,
 "nbformat_minor": 4
}
